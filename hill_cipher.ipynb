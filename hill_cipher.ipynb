{
 "cells": [
  {
   "cell_type": "code",
   "execution_count": 428,
   "metadata": {},
   "outputs": [
    {
     "name": "stdout",
     "output_type": "stream",
     "text": [
      "A: 0\n",
      "B: 1\n",
      "C: 2\n",
      "D: 3\n",
      "E: 4\n",
      "F: 5\n",
      "G: 6\n",
      "H: 7\n",
      "I: 8\n",
      "J: 9\n",
      "K: 10\n",
      "L: 11\n",
      "M: 12\n",
      "N: 13\n",
      "O: 14\n",
      "P: 15\n",
      "Q: 16\n",
      "R: 17\n",
      "S: 18\n",
      "T: 19\n",
      "U: 20\n",
      "V: 21\n",
      "W: 22\n",
      "X: 23\n",
      "Y: 24\n",
      "Z: 25\n"
     ]
    }
   ],
   "source": [
    "import string\n",
    "\n",
    "# Mendapatkan alfabet A-Z\n",
    "alphabet = string.ascii_uppercase\n",
    "\n",
    "# Membuat kamus (dictionary) dengan huruf sebagai kunci dan indeks sebagai nilai\n",
    "alphabet_indices = {letter: index for index, letter in enumerate(alphabet)}\n",
    "\n",
    "# Mencetak indeks dari A-Z\n",
    "for letter in alphabet:\n",
    "    print(f\"{letter}: {alphabet_indices[letter]}\")\n",
    "\n",
    "# print(f\"The index of 'C' is: {alphabet_indices['C']}\")\n",
    "\n"
   ]
  },
  {
   "cell_type": "code",
   "execution_count": 429,
   "metadata": {},
   "outputs": [
    {
     "name": "stdout",
     "output_type": "stream",
     "text": [
      "NIKONADINE\n",
      "kalimat = 'niko nadine' diubah menjadi per-karakter dan mengabaikan spasi \n",
      "['N', 'I', 'K', 'O', 'N', 'A', 'D', 'I', 'N', 'E']\n",
      "Indeks yang sesuai dengan teks:\n",
      "13 8 10 14 13 0 3 8 13 4 \n",
      " Dengan key_cipher berikut :\n",
      "1 3 \n",
      "2 5 \n"
     ]
    }
   ],
   "source": [
    "# Menginputkan kalimat \n",
    "plainTeks = input(\"Masukkan kalimat anda : \")\n",
    "\n",
    "# Menghapus spasi\n",
    "plainTeks_TanpaSpasi = plainTeks.replace(\" \", \"\")\n",
    "\n",
    "# Mengkapitalkan inputan\n",
    "plainTeks_TanpaSpasi = plainTeks_TanpaSpasi.upper()\n",
    "print(plainTeks_TanpaSpasi)\n",
    "\n",
    "# Memecah menjadi char\n",
    "karakter = list(plainTeks_TanpaSpasi)\n",
    "print(\"kalimat = '\" + plainTeks + \"' diubah menjadi per-karakter dan mengabaikan spasi \")\n",
    "print(karakter)\n",
    "\n",
    "indeks_karakter = []\n",
    "\n",
    "# Iterasi melalui karakter-karakter dalam plainTeks_TanpaSpasi\n",
    "for char in karakter:\n",
    "    if char.isalpha():\n",
    "        # Mengonversi huruf menjadi indeks berdasarkan urutan dalam alfabet\n",
    "        indeks = ord(char) - ord('A')\n",
    "        indeks_karakter.append(indeks)\n",
    "\n",
    "# Cetak indeks yang sesuai\n",
    "print(\"Indeks yang sesuai dengan teks:\")\n",
    "for indeks in indeks_karakter:\n",
    "    print(indeks, end=\" \")\n",
    "\n",
    "# Key yang digunakan\n",
    "key_cipher = [[1, 3], [2, 5]]\n",
    "print(\"\\n Dengan key_cipher berikut :\")\n",
    "for baris in key_cipher:\n",
    "    for elemen in baris:\n",
    "        print(elemen, end=\" \")\n",
    "    print()\n"
   ]
  },
  {
   "cell_type": "code",
   "execution_count": 430,
   "metadata": {},
   "outputs": [
    {
     "name": "stdout",
     "output_type": "stream",
     "text": [
      "['N', 'I']\n",
      "['K', 'O']\n",
      "['N', 'A']\n",
      "['D', 'I']\n",
      "['N', 'E']\n"
     ]
    }
   ],
   "source": [
    "# Mengelompokkan jadi 2 char huruf\n",
    "pasangan_karakter = []\n",
    "for i in range(0, len(karakter), 2):\n",
    "    # Mengambil dua karakter sekaligus\n",
    "    pasangan= karakter[i:i+2]\n",
    "    pasangan_karakter.append(pasangan)\n",
    "\n",
    "for pasangan in pasangan_karakter:\n",
    "    print(pasangan)"
   ]
  },
  {
   "cell_type": "code",
   "execution_count": 431,
   "metadata": {},
   "outputs": [
    {
     "name": "stdout",
     "output_type": "stream",
     "text": [
      "[13, 8]\n",
      "[10, 14]\n",
      "[13, 0]\n",
      "[3, 8]\n",
      "[13, 4]\n"
     ]
    }
   ],
   "source": [
    "# Mengelompokkan jadi 2 char indeks\n",
    "pasangan_karakter = []\n",
    "for i in range(0, len(indeks_karakter), 2):\n",
    "    # Mengambil dua karakter sekaligus\n",
    "    pasangan = indeks_karakter[i:i+2]\n",
    "    pasangan_karakter.append(pasangan)\n",
    "\n",
    "for pasangan in pasangan_karakter:\n",
    "    print(pasangan)"
   ]
  },
  {
   "cell_type": "code",
   "execution_count": 432,
   "metadata": {},
   "outputs": [
    {
     "name": "stdout",
     "output_type": "stream",
     "text": [
      "[[11, 14], [0, 12], [13, 0], [1, 20], [25, 20]]\n"
     ]
    }
   ],
   "source": [
    "# Membuat fungsi perkalian matriks\n",
    "def perkalian_matriks(key_cipher, pasangan_karakter):\n",
    "    # Inisialisasi daftar untuk menyimpan hasil perkalian matriks\n",
    "    hasil_perkalian = []\n",
    "\n",
    "    # Iterasi melalui setiap pasangan karakter\n",
    "    for pasangan in pasangan_karakter:\n",
    "        hasil_pasangan = []\n",
    "\n",
    "        # Iterasi melalui baris dalam key_cipher\n",
    "        for baris in key_cipher:\n",
    "            hasil = 0\n",
    "\n",
    "            # Menghitung perkalian dalam satu pasangan karakter\n",
    "            for i in range(2):\n",
    "                hasil += baris[i] * pasangan[i]\n",
    "\n",
    "            # Menambahkan hasil perkalian ke dalam hasil_pasangan\n",
    "            hasil_pasangan.append(hasil % 26)\n",
    "\n",
    "        # Menambahkan hasil pasangan ke dalam hasil_perkalian\n",
    "        hasil_perkalian.append(hasil_pasangan)\n",
    "\n",
    "    return hasil_perkalian\n",
    "\n",
    "hasil_perkalian = perkalian_matriks(key_cipher, pasangan_karakter)\n",
    "print(hasil_perkalian)"
   ]
  },
  {
   "cell_type": "code",
   "execution_count": 433,
   "metadata": {},
   "outputs": [
    {
     "name": "stdout",
     "output_type": "stream",
     "text": [
      "LOAMNABUZU\n"
     ]
    }
   ],
   "source": [
    "# Membuat fungsi untuk mengubah indeks dari hasil perkalian matriks ke alfabet\n",
    "def indeks_ke_alfabet(hasil_perkalian):\n",
    "    alfabet_hasil = []\n",
    "\n",
    "    # Iterasi melalui hasil perkalian matriks\n",
    "    for hasil_pasangan in hasil_perkalian:\n",
    "        alfabet_pasangan = \"\"\n",
    "\n",
    "        # Iterasi melalui setiap hasil dalam satu pasangan karakter\n",
    "        for hasil in hasil_pasangan:\n",
    "            # Mengkonversi hasil indeks menjadi alfabet\n",
    "            alfabet = chr(hasil + ord('A'))\n",
    "            alfabet_pasangan += alfabet\n",
    "\n",
    "        # Menambahkan hasil alfabet pasangan ke dalam alfabet_hasil\n",
    "        alfabet_hasil.append(alfabet_pasangan)\n",
    "\n",
    "    kalimat_hasil = \"\".join(alfabet_hasil)\n",
    "\n",
    "    return kalimat_hasil\n",
    "\n",
    "kalimat_hasil = indeks_ke_alfabet(hasil_perkalian)\n",
    "print(kalimat_hasil)\n"
   ]
  },
  {
   "cell_type": "code",
   "execution_count": 434,
   "metadata": {},
   "outputs": [
    {
     "data": {
      "text/plain": [
       "-1"
      ]
     },
     "execution_count": 434,
     "metadata": {},
     "output_type": "execute_result"
    }
   ],
   "source": [
    "# Menghitung determinan\n",
    "def determinan_key(matrix): \n",
    "    determinan = matrix[0][0] * matrix[1][1] - matrix[0][1] * matrix[1][0]\n",
    "    return determinan\n",
    "    \n",
    "# Cetak determinan\n",
    "determinan_key(key_cipher)\n",
    "\n"
   ]
  },
  {
   "cell_type": "code",
   "execution_count": 435,
   "metadata": {},
   "outputs": [
    {
     "data": {
      "text/plain": [
       "([5, -3], [-2, 1])"
      ]
     },
     "execution_count": 435,
     "metadata": {},
     "output_type": "execute_result"
    }
   ],
   "source": [
    "# fungsi adj matriks\n",
    "def adjoint(matrix):\n",
    "    adj_key = [matrix[1][1], -matrix[0][1]], [-matrix[1][0], matrix[0][0]]\n",
    "    return adj_key\n",
    "\n",
    "adjoint(key_cipher)"
   ]
  },
  {
   "cell_type": "code",
   "execution_count": 436,
   "metadata": {},
   "outputs": [
    {
     "name": "stdout",
     "output_type": "stream",
     "text": [
      "-1 * 1 % 26 = 25\n",
      "-1 * 2 % 26 = 24\n",
      "-1 * 3 % 26 = 23\n",
      "-1 * 4 % 26 = 22\n",
      "-1 * 5 % 26 = 21\n",
      "-1 * 6 % 26 = 20\n",
      "-1 * 7 % 26 = 19\n",
      "-1 * 8 % 26 = 18\n",
      "-1 * 9 % 26 = 17\n",
      "-1 * 10 % 26 = 16\n",
      "-1 * 11 % 26 = 15\n",
      "-1 * 12 % 26 = 14\n",
      "-1 * 13 % 26 = 13\n",
      "-1 * 14 % 26 = 12\n",
      "-1 * 15 % 26 = 11\n",
      "-1 * 16 % 26 = 10\n",
      "-1 * 17 % 26 = 9\n",
      "-1 * 18 % 26 = 8\n",
      "-1 * 19 % 26 = 7\n",
      "-1 * 20 % 26 = 6\n",
      "-1 * 21 % 26 = 5\n",
      "-1 * 22 % 26 = 4\n",
      "-1 * 23 % 26 = 3\n",
      "-1 * 24 % 26 = 2\n",
      "-1 * 25 % 26 = 1\n",
      "hasil 1/-1 modulus 26 hingga hasil modulusnya 1 = 25\n",
      "\n",
      "\n",
      "[[21, 3], [2, 25]]\n"
     ]
    }
   ],
   "source": [
    "# Membuat fungsi invers matriks untuk tahap awal dekripsi\n",
    "def invers_key(determinant, adjoint_matrix):\n",
    "    def find_modular_inverse(num, mod):\n",
    "        for i in range(1, mod):\n",
    "            result = (num * i) % mod\n",
    "            print(f\"{num} * {i} % {mod} = {result}\")\n",
    "            if result == 1:\n",
    "                return i\n",
    "        return None\n",
    "    deter = determinant\n",
    "    satu_per_det_mod_26 = find_modular_inverse(determinant, 26)\n",
    "    print(f\"hasil 1/{deter} modulus 26 hingga hasil modulusnya 1 = {satu_per_det_mod_26}\")\n",
    "    print(\"\\n\")\n",
    "    invers_matrix = [[(satu_per_det_mod_26 * adjoint_matrix[i][j]) % 26 for j in range(len(adjoint_matrix[0]))] for i in range(len(adjoint_matrix))]\n",
    "    print (invers_matrix)\n",
    "    \n",
    "    return invers_matrix\n",
    "\n",
    "dekripsi_key = invers_key(determinan_key(key_cipher), adjoint(key_cipher))\n",
    "# print(\"Invers dari key_cipher:\")\n",
    "# for row in invers_matrix:\n",
    "#     print(row)\n"
   ]
  },
  {
   "cell_type": "code",
   "execution_count": 437,
   "metadata": {},
   "outputs": [
    {
     "name": "stdout",
     "output_type": "stream",
     "text": [
      "[[11, 14], [0, 12], [13, 0], [1, 20], [25, 20]]\n",
      "LOAMNABUZU\n"
     ]
    }
   ],
   "source": [
    "# Review ulang indeks perkalian matriks yang didapat sama kalimatnya\n",
    "print(hasil_perkalian)\n",
    "print(kalimat_hasil)\n"
   ]
  },
  {
   "cell_type": "code",
   "execution_count": 438,
   "metadata": {},
   "outputs": [
    {
     "name": "stdout",
     "output_type": "stream",
     "text": [
      "[[13, 8], [10, 14], [13, 0], [3, 8], [13, 4]]\n"
     ]
    }
   ],
   "source": [
    "# menjalankan function perkalian matriks dari dekripsi_key dan hasil_perkalian untuk mendapatkan indeks_dekripsi\n",
    "indeks_dekripsi = perkalian_matriks(dekripsi_key, hasil_perkalian)\n",
    "print(indeks_dekripsi)"
   ]
  },
  {
   "cell_type": "code",
   "execution_count": 439,
   "metadata": {},
   "outputs": [
    {
     "name": "stdout",
     "output_type": "stream",
     "text": [
      "NIKONADINE\n"
     ]
    }
   ],
   "source": [
    "# menjalankan function indeks_ke_alfabet\n",
    "hasil_indeks_dekripsi_alfabet = indeks_ke_alfabet(indeks_dekripsi)\n",
    "print(hasil_indeks_dekripsi_alfabet)"
   ]
  }
 ],
 "metadata": {
  "kernelspec": {
   "display_name": "Python 3",
   "language": "python",
   "name": "python3"
  },
  "language_info": {
   "codemirror_mode": {
    "name": "ipython",
    "version": 3
   },
   "file_extension": ".py",
   "mimetype": "text/x-python",
   "name": "python",
   "nbconvert_exporter": "python",
   "pygments_lexer": "ipython3",
   "version": "3.9.16"
  }
 },
 "nbformat": 4,
 "nbformat_minor": 2
}
